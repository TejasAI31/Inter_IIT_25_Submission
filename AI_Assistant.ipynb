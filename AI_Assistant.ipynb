{
 "cells": [
  {
   "cell_type": "code",
   "execution_count": 21,
   "id": "a7c23085",
   "metadata": {},
   "outputs": [],
   "source": [
    "import os\n",
    "from langchain_google_genai import ChatGoogleGenerativeAI\n",
    "from langchain_community.tools import DuckDuckGoSearchResults"
   ]
  },
  {
   "cell_type": "code",
   "execution_count": 22,
   "id": "e7a6502c",
   "metadata": {},
   "outputs": [],
   "source": [
    "llm=ChatGoogleGenerativeAI(\n",
    "    model=\"gemini-2.5-flash\",\n",
    "    temperature=0,\n",
    "    api_key=os.getenv(\"GOOGLE_API_KEY\"),\n",
    ")"
   ]
  },
  {
   "cell_type": "markdown",
   "id": "bb564f82",
   "metadata": {},
   "source": [
    "Tools"
   ]
  },
  {
   "cell_type": "code",
   "execution_count": 23,
   "id": "cb196705",
   "metadata": {},
   "outputs": [],
   "source": [
    "tools=[DuckDuckGoSearchResults()]\n",
    "tool_dict={tool.name:tool for tool in tools}\n",
    "llm_with_tools=llm.bind_tools(tools)"
   ]
  },
  {
   "cell_type": "markdown",
   "id": "ab71366f",
   "metadata": {},
   "source": [
    "Graph State"
   ]
  },
  {
   "cell_type": "code",
   "execution_count": 24,
   "id": "1a4ff605",
   "metadata": {},
   "outputs": [],
   "source": [
    "from langchain_core.messages import AnyMessage\n",
    "from typing_extensions import TypedDict,Annotated\n",
    "import operator\n",
    "\n",
    "class MessagesState(TypedDict):\n",
    "    messages:Annotated[list[AnyMessage],operator.add]\n",
    "    llm_calls:int"
   ]
  },
  {
   "cell_type": "code",
   "execution_count": 25,
   "id": "d365da6d",
   "metadata": {},
   "outputs": [],
   "source": [
    "from langchain_core.messages import SystemMessage\n",
    "\n",
    "def llm_call(state: dict):\n",
    "    '''LLM decides whether to call a tool or not'''\n",
    "\n",
    "    # Filter out any unexpected keys, only use 'messages' and 'llm_calls'\n",
    "    messages = state.get('messages', [])\n",
    "    llm_calls = state.get('llm_calls', 0)\n",
    "\n",
    "    output = {\n",
    "        \"messages\": [\n",
    "            llm_with_tools.invoke(\n",
    "                [\n",
    "                    SystemMessage(\n",
    "                        content=\"You are a helpful assistant who will answer any query related to finance. Return \"\"I Cannot Answer That\"\" if it is out of scope. Do NOT provide sensitive information\"\n",
    "                    )\n",
    "                ] + messages\n",
    "            ),\n",
    "        ],\n",
    "        \"llm_calls\": llm_calls + 1\n",
    "    }\n",
    "\n",
    "    return output\n"
   ]
  },
  {
   "cell_type": "code",
   "execution_count": 26,
   "id": "cb6d707f",
   "metadata": {},
   "outputs": [],
   "source": [
    "from langchain_core.messages import ToolMessage\n",
    "\n",
    "def tool_node(state:dict):\n",
    "    '''Performs the tool call'''\n",
    "\n",
    "    result=[]\n",
    "    for tool_call in state['messages'][-1].tool_calls:\n",
    "        tool=tool_dict[tool_call['name']]\n",
    "        observation=tool.invoke(tool_call[\"args\"])\n",
    "        result.append(ToolMessage(content=observation,\n",
    "                      tool_call_id=tool_call['id']))\n",
    "        \n",
    "    return {\"messages\":result}\n"
   ]
  },
  {
   "cell_type": "code",
   "execution_count": 27,
   "id": "406ec900",
   "metadata": {},
   "outputs": [],
   "source": [
    "from typing import Literal\n",
    "from langgraph.graph import StateGraph,START,END\n",
    "\n",
    "def should_continue(state: MessagesState)->Literal[\"Information Retrieval\",END]:\n",
    "    \"\"\"Decide if we should continue the loop or stop based upon whether the LLM made a tool call\"\"\"\n",
    "\n",
    "    messages=state['messages']\n",
    "    last_message=messages[-1]\n",
    "\n",
    "    if(last_message.tool_calls):\n",
    "        return \"Information Retrieval\"\n",
    "    return END"
   ]
  },
  {
   "cell_type": "code",
   "execution_count": 28,
   "id": "a1325878",
   "metadata": {},
   "outputs": [
    {
     "data": {
      "image/png": "[encoded data removed]",
      "text/plain": [
       "<IPython.core.display.Image object>"
      ]
     },
     "metadata": {},
     "output_type": "display_data"
    }
   ],
   "source": [
    "agent_builder=StateGraph(MessagesState)\n",
    "\n",
    "agent_builder.add_node(\"Main Agent\",llm_call)\n",
    "agent_builder.add_node(\"Information Retrieval\",tool_node)\n",
    "\n",
    "agent_builder.add_edge(START,\"Main Agent\")\n",
    "agent_builder.add_conditional_edges(\n",
    "    \"Main Agent\",\n",
    "    should_continue,\n",
    "    [\"Information Retrieval\",END]\n",
    ")\n",
    "\n",
    "agent_builder.add_edge(\"Information Retrieval\",\"Main Agent\")\n",
    "\n",
    "agent=agent_builder.compile()\n",
    "\n",
    "from IPython.display import Image, display\n",
    "display(Image(agent.get_graph(xray=True).draw_mermaid_png()))\n"
   ]
  },
  {
   "cell_type": "markdown",
   "id": "ff705009",
   "metadata": {},
   "source": [
    "Chat"
   ]
  },
  {
   "cell_type": "code",
   "execution_count": 29,
   "id": "1c1f3e61",
   "metadata": {},
   "outputs": [],
   "source": [
    "from langchain_core.messages import HumanMessage"
   ]
  },
  {
   "cell_type": "code",
   "execution_count": 30,
   "id": "ab9eb2c7",
   "metadata": {},
   "outputs": [
    {
     "name": "stdout",
     "output_type": "stream",
     "text": [
      "================================\u001b[1m Human Message \u001b[0m=================================\n",
      "\n",
      "Hi\n",
      "==================================\u001b[1m Ai Message \u001b[0m==================================\n",
      "\n",
      "Hello! How can I help you with your financial questions today?\n",
      "================================\u001b[1m Human Message \u001b[0m=================================\n",
      "\n",
      "What is the difference between options and futures?\n",
      "==================================\u001b[1m Ai Message \u001b[0m==================================\n",
      "\n",
      "[{'type': 'text', 'text': 'Options and futures are both financial derivatives, meaning their value is derived from an underlying asset, but they have key differences:\\n\\n**Options:**\\n*   **Right, Not Obligation:** An option gives the buyer the *right*, but not the *obligation*, to buy (call option) or sell (put option) an underlying asset at a predetermined price (strike price) on or before a specific date (expiration date).\\n*   **Premium:** The buyer pays a premium to the seller for this right.\\n*   **Limited Risk for Buyer:** The maximum loss for the option buyer is the premium paid.\\n*   **Unlimited Risk for Seller:** The option seller (writer) has potentially unlimited risk, especially for uncovered call options.\\n*   **Flexibility:** Options offer more flexibility as the holder can choose whether or not to exercise the option.\\n\\n**Futures:**\\n*   **Obligation:** A futures contract is an agreement to buy or sell an underlying asset at a predetermined price on a specific date in the future. Both the buyer and seller have an *obligation* to fulfill the contract.\\n*   **No Premium:** There is no premium paid upfront like with options. Instead, participants typically deposit an initial margin.\\n*   **Mark-to-Market:** Futures contracts are \"marked-to-market\" daily, meaning gains and losses are settled each day.\\n*   **Symmetric Risk/Reward:** Both the buyer and seller of a futures contract have potentially unlimited risk and reward.\\n*   **Standardized:** Futures contracts are highly standardized and traded on exchanges.\\n\\n**Key Differences Summarized:**\\n\\n| Feature          | Options                                   | Futures                                     |\\n| :--------------- | :---------------------------------------- | :------------------------------------------ |\\n| **Obligation**   | Right, but not obligation                 | Obligation                                  |\\n| **Upfront Cost** | Premium paid by buyer                     | Margin deposit (no premium)                 |\\n| **Risk (Buyer)** | Limited to premium paid                   | Potentially unlimited                       |\\n| **Risk (Seller)**| Potentially unlimited                     | Potentially unlimited                       |\\n| **Flexibility**  | High (can choose to exercise or not)      | Low (must fulfill contract)                 |\\n| **Settlement**   | At expiration if exercised                | Daily (mark-to-market)                      |\\n\\nIn essence, options provide a choice, while futures impose a commitment.', 'extras': {'signature': 'CrYCAdHtim+c3UHK1AHodJravrmRiWBsRNg7UkCW4HMIQBVSRvJmLRrhTANp29RdneebRR0Ufcfgr7cJBF5NhjH2ILh6dpmGmP9vN0M/2YqAKfSiGt2WYwMXHSvnHhWODPZhP4MgKpT1YIalQNKhRx+m0dCSuPmf4F5Zpc2sk1FA1gOTkM8IddkJwrJBF+795NleUmGhfQz4wPyJlQ8s6PyhpK3GuoImgHXrTYk4zFFfGpzsIENHCTCEsZeV7ZSWTX4udr0PU+AnEYD/Uj7uoyaZnA5tBo7QWCtryey4JqP6SPTbHtRapLXPw/CFr+rU0doIPsQBAxW54XwACTJ4fJ9lsT7uHbuh7gPohe0LfmQzK/MYH5yvkrBfymzXE6QB1DnVqEl7iKLUN0IfUL+Z0PrPCP+7Tlen8w=='}}]\n",
      "================================\u001b[1m Human Message \u001b[0m=================================\n",
      "\n",
      "What is a guitar?\n",
      "==================================\u001b[1m Ai Message \u001b[0m==================================\n",
      "\n",
      "[{'type': 'text', 'text': 'I Cannot Answer That', 'extras': {'signature': 'CtgBAdHtim9V/NMwmq3xdWRQ+ZXcYzX/PrprEgsYA1jzZhyVSBdSfX5eN5iQ/81I9pGB7d4dbJdTv7NZc/e6L4f7HLFbig0nae5id1lCLN1FHfQ/OADMq/Yci15vUyreoNXrp9li5hD0srnJGTWIfVDl7OCoaVXqO6ywef4W9FQV6nYTgu+4u/RPp4rgXM5Vm/tTFynIUTzrxLxkmxjSZliTlzBo/linxUqJDDLcSY2X3SkZhfY/StUzhm4qYbFkcW4fd1gF5hQ3FdSbbcc8G/ejTv6RNvCPrTY7'}}]\n"
     ]
    }
   ],
   "source": [
    "inp=str(\"Hi\")\n",
    "\n",
    "while inp.lower()!=\"exit\":\n",
    "    message = [HumanMessage(content=inp)]\n",
    "    response=agent.invoke({\"messages\": message})\n",
    "\n",
    "    for m in response[\"messages\"]:\n",
    "        m.pretty_print()\n",
    "    \n",
    "    inp=str(input(\"Ask A Question:\"))"
   ]
  }
 ],
 "metadata": {
  "kernelspec": {
   "display_name": ".venv",
   "language": "python",
   "name": "python3"
  },
  "language_info": {
   "codemirror_mode": {
    "name": "ipython",
    "version": 3
   },
   "file_extension": ".py",
   "mimetype": "text/x-python",
   "name": "python",
   "nbconvert_exporter": "python",
   "pygments_lexer": "ipython3",
   "version": "3.13.3"
  }
 },
 "nbformat": 4,
 "nbformat_minor": 5
}

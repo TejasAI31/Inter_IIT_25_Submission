{
 "cells": [
  {
   "cell_type": "code",
   "execution_count": 1,
   "id": "54e9111c",
   "metadata": {},
   "outputs": [],
   "source": [
    "import yfinance as yf\n",
    "from tqdm import tqdm\n",
    "from sklearn.model_selection import train_test_split\n",
    "import numpy as np\n",
    "import matplotlib.pyplot as plt\n",
    "from sklearn.metrics import r2_score\n",
    "\n",
    "from torch import nn,tensor,float32,cuda,zeros\n",
    "from torch import device as torch_device\n",
    "from torch.utils.data import TensorDataset,DataLoader\n",
    "from torch.nn import MSELoss\n",
    "from torch.optim import Adam"
   ]
  },
  {
   "cell_type": "code",
   "execution_count": 2,
   "id": "a6596738",
   "metadata": {},
   "outputs": [],
   "source": [
    "device=torch_device(\"cuda\" if cuda.is_available() else \"cpu\")"
   ]
  },
  {
   "cell_type": "markdown",
   "id": "e19a05df",
   "metadata": {},
   "source": [
    "Params"
   ]
  },
  {
   "cell_type": "code",
   "execution_count": 3,
   "id": "c11bc851",
   "metadata": {},
   "outputs": [],
   "source": [
    "windowsize=5"
   ]
  },
  {
   "cell_type": "markdown",
   "id": "fc3f0609",
   "metadata": {},
   "source": [
    "Import Data"
   ]
  },
  {
   "cell_type": "code",
   "execution_count": 4,
   "id": "9c0e8650",
   "metadata": {},
   "outputs": [
    {
     "name": "stderr",
     "output_type": "stream",
     "text": [
      "C:\\Users\\tejes\\AppData\\Local\\Temp\\ipykernel_24680\\1468470456.py:1: FutureWarning: YF.download() has changed argument auto_adjust default to True\n",
      "  stock=yf.download(tickers=\"NVDA\",period=\"7d\",interval=\"1m\",multi_level_index=False,)\n",
      "[*********************100%***********************]  1 of 1 completed\n"
     ]
    }
   ],
   "source": [
    "stock=yf.download(tickers=\"NVDA\",period=\"7d\",interval=\"1m\",multi_level_index=False,)\n",
    "stock.drop(\"Volume\",axis=\"columns\",inplace=True)"
   ]
  },
  {
   "cell_type": "code",
   "execution_count": 5,
   "id": "7c23651d",
   "metadata": {},
   "outputs": [
    {
     "data": {
      "text/html": [
       "<div>\n",
       "<style scoped>\n",
       "    .dataframe tbody tr th:only-of-type {\n",
       "        vertical-align: middle;\n",
       "    }\n",
       "\n",
       "    .dataframe tbody tr th {\n",
       "        vertical-align: top;\n",
       "    }\n",
       "\n",
       "    .dataframe thead th {\n",
       "        text-align: right;\n",
       "    }\n",
       "</style>\n",
       "<table border=\"1\" class=\"dataframe\">\n",
       "  <thead>\n",
       "    <tr style=\"text-align: right;\">\n",
       "      <th></th>\n",
       "      <th>Close</th>\n",
       "      <th>High</th>\n",
       "      <th>Low</th>\n",
       "      <th>Open</th>\n",
       "    </tr>\n",
       "    <tr>\n",
       "      <th>Datetime</th>\n",
       "      <th></th>\n",
       "      <th></th>\n",
       "      <th></th>\n",
       "      <th></th>\n",
       "    </tr>\n",
       "  </thead>\n",
       "  <tbody>\n",
       "    <tr>\n",
       "      <th>2025-10-13 13:30:00+00:00</th>\n",
       "      <td>188.669998</td>\n",
       "      <td>188.990005</td>\n",
       "      <td>187.880005</td>\n",
       "      <td>187.964996</td>\n",
       "    </tr>\n",
       "    <tr>\n",
       "      <th>2025-10-13 13:31:00+00:00</th>\n",
       "      <td>188.759995</td>\n",
       "      <td>189.259995</td>\n",
       "      <td>188.350006</td>\n",
       "      <td>188.639999</td>\n",
       "    </tr>\n",
       "    <tr>\n",
       "      <th>2025-10-13 13:32:00+00:00</th>\n",
       "      <td>188.755005</td>\n",
       "      <td>189.100006</td>\n",
       "      <td>188.453506</td>\n",
       "      <td>188.744995</td>\n",
       "    </tr>\n",
       "    <tr>\n",
       "      <th>2025-10-13 13:33:00+00:00</th>\n",
       "      <td>188.490005</td>\n",
       "      <td>189.141693</td>\n",
       "      <td>188.300003</td>\n",
       "      <td>188.740005</td>\n",
       "    </tr>\n",
       "    <tr>\n",
       "      <th>2025-10-13 13:34:00+00:00</th>\n",
       "      <td>187.770004</td>\n",
       "      <td>188.559998</td>\n",
       "      <td>187.750595</td>\n",
       "      <td>188.500000</td>\n",
       "    </tr>\n",
       "  </tbody>\n",
       "</table>\n",
       "</div>"
      ],
      "text/plain": [
       "                                Close        High         Low        Open\n",
       "Datetime                                                                 \n",
       "2025-10-13 13:30:00+00:00  188.669998  188.990005  187.880005  187.964996\n",
       "2025-10-13 13:31:00+00:00  188.759995  189.259995  188.350006  188.639999\n",
       "2025-10-13 13:32:00+00:00  188.755005  189.100006  188.453506  188.744995\n",
       "2025-10-13 13:33:00+00:00  188.490005  189.141693  188.300003  188.740005\n",
       "2025-10-13 13:34:00+00:00  187.770004  188.559998  187.750595  188.500000"
      ]
     },
     "execution_count": 5,
     "metadata": {},
     "output_type": "execute_result"
    }
   ],
   "source": [
    "stock.head()"
   ]
  },
  {
   "cell_type": "code",
   "execution_count": 6,
   "id": "8a053a13",
   "metadata": {},
   "outputs": [],
   "source": [
    "X=stock[['Close','High','Low']].values\n",
    "y=stock[['Open']].values"
   ]
  },
  {
   "cell_type": "markdown",
   "id": "47642c9a",
   "metadata": {},
   "source": [
    "Scaling"
   ]
  },
  {
   "cell_type": "code",
   "execution_count": 7,
   "id": "c9e100a5",
   "metadata": {},
   "outputs": [],
   "source": [
    "from sklearn.preprocessing import StandardScaler"
   ]
  },
  {
   "cell_type": "code",
   "execution_count": 8,
   "id": "7a8b8a1b",
   "metadata": {},
   "outputs": [],
   "source": [
    "X_scaler=StandardScaler()\n",
    "y_scaler=StandardScaler()\n",
    "\n",
    "X_scaled=X_scaler.fit_transform(X)\n",
    "y_scaled=y_scaler.fit_transform(y)"
   ]
  },
  {
   "cell_type": "markdown",
   "id": "5759fe13",
   "metadata": {},
   "source": [
    "Train Test Split"
   ]
  },
  {
   "cell_type": "code",
   "execution_count": 9,
   "id": "35a6e37c",
   "metadata": {},
   "outputs": [],
   "source": [
    "X_train,X_test,y_train,y_test=train_test_split(X_scaled,y_scaled,train_size=0.8,shuffle=False)"
   ]
  },
  {
   "cell_type": "code",
   "execution_count": 10,
   "id": "fa5d64c2",
   "metadata": {},
   "outputs": [
    {
     "name": "stdout",
     "output_type": "stream",
     "text": [
      "X_train Size: 2171\n",
      "X_test Size 543\n"
     ]
    }
   ],
   "source": [
    "print(\"X_train Size:\",len(X_train))\n",
    "print(\"X_test Size\",len(X_test))"
   ]
  },
  {
   "cell_type": "markdown",
   "id": "3eaa43e1",
   "metadata": {},
   "source": [
    "Sliding Windows"
   ]
  },
  {
   "cell_type": "code",
   "execution_count": 11,
   "id": "ceb1f225",
   "metadata": {},
   "outputs": [],
   "source": [
    "def sliding_windows(x,y,size=4):\n",
    "    out=[]\n",
    "    for i in range(len(x)-size):\n",
    "        out.append(x[i:i+size])\n",
    "    return np.array(out),y[size:]"
   ]
  },
  {
   "cell_type": "code",
   "execution_count": 12,
   "id": "290e1117",
   "metadata": {},
   "outputs": [],
   "source": [
    "X_train_sliding,y_train_sliding=sliding_windows(X_train,y_train,size=windowsize)\n",
    "X_test_sliding,y_test_sliding=sliding_windows(X_test,y_test,size=windowsize)"
   ]
  },
  {
   "cell_type": "markdown",
   "id": "6ebf6647",
   "metadata": {},
   "source": [
    "Datasets"
   ]
  },
  {
   "cell_type": "code",
   "execution_count": 13,
   "id": "1b3fab7a",
   "metadata": {},
   "outputs": [],
   "source": [
    "train_dataset=TensorDataset(tensor(X_train_sliding,dtype=float32),tensor(y_train_sliding,dtype=float32))\n",
    "test_dataset=TensorDataset(tensor(X_test_sliding,dtype=float32),tensor(y_test_sliding,dtype=float32))"
   ]
  },
  {
   "cell_type": "markdown",
   "id": "5f4bf5df",
   "metadata": {},
   "source": [
    "Loaders"
   ]
  },
  {
   "cell_type": "code",
   "execution_count": 14,
   "id": "744c5dd7",
   "metadata": {},
   "outputs": [],
   "source": [
    "train_loader=DataLoader(train_dataset,pin_memory=cuda.is_available(),batch_size=16)\n",
    "test_loader=DataLoader(test_dataset,pin_memory=cuda.is_available(),batch_size=128)"
   ]
  },
  {
   "cell_type": "markdown",
   "id": "20aeb342",
   "metadata": {},
   "source": [
    "Model"
   ]
  },
  {
   "cell_type": "code",
   "execution_count": 15,
   "id": "3ad549dd",
   "metadata": {},
   "outputs": [],
   "source": [
    "class LSTM_Model(nn.Module):\n",
    "    def __init__(self,hidden_units=32,num_layers=1):\n",
    "        super(LSTM_Model,self).__init__()\n",
    "\n",
    "        self.hidden_units=hidden_units\n",
    "        self.num_layers=num_layers\n",
    "\n",
    "        self.lstm_layer=nn.LSTM(input_size=3,num_layers=num_layers,hidden_size=hidden_units,batch_first=True)\n",
    "        self.nn_block=nn.Sequential(\n",
    "            nn.LazyLinear(out_features=64),\n",
    "            nn.SELU(),\n",
    "            nn.Linear(64,32),\n",
    "            nn.SELU(),\n",
    "            nn.Linear(32,1),\n",
    "        )\n",
    "    \n",
    "    def forward(self,x):\n",
    "        \n",
    "        h0=zeros(self.num_layers, x.size(0), self.hidden_units).requires_grad_().to(device)\n",
    "        c0=zeros(self.num_layers, x.size(0), self.hidden_units).requires_grad_().to(device)\n",
    "        \n",
    "        out,_=self.lstm_layer(x,(h0,c0))\n",
    "        out=out[:, -1, :]\n",
    "        out = self.nn_block(out)\n",
    "\n",
    "        return out"
   ]
  },
  {
   "cell_type": "code",
   "execution_count": 16,
   "id": "b3831c31",
   "metadata": {},
   "outputs": [],
   "source": [
    "model=LSTM_Model(hidden_units=128).to(device)\n",
    "mse_loss=MSELoss().to(device)\n",
    "optimizer=Adam(params=model.parameters(),lr=1e-5)"
   ]
  },
  {
   "cell_type": "markdown",
   "id": "851af132",
   "metadata": {},
   "source": [
    "Validation Method"
   ]
  },
  {
   "cell_type": "code",
   "execution_count": 17,
   "id": "93c731dc",
   "metadata": {},
   "outputs": [],
   "source": [
    "def validate():\n",
    "    model.eval()\n",
    "    y_pred=[]\n",
    "\n",
    "    for idx,(x,y) in enumerate(test_loader):\n",
    "        x=x.to(device)\n",
    "        y=y.to(device)\n",
    "\n",
    "        model.zero_grad()\n",
    "            \n",
    "        out=model(x)\n",
    "        y_pred.extend(list(out.detach().cpu().numpy()))\n",
    "    \n",
    "    model.train()\n",
    "\n",
    "    return r2_score(y_pred=y_pred,y_true=y_test_sliding)"
   ]
  },
  {
   "cell_type": "markdown",
   "id": "834d3f36",
   "metadata": {},
   "source": [
    "Train"
   ]
  },
  {
   "cell_type": "code",
   "execution_count": 18,
   "id": "f663b6bb",
   "metadata": {},
   "outputs": [],
   "source": [
    "def train(epochs=10):\n",
    "    \n",
    "    losses=[]\n",
    "    model.train()\n",
    "    for epoch in range(epochs):\n",
    "\n",
    "        epoch_losses=[]\n",
    "\n",
    "        for idx,(x,y) in enumerate(tqdm(train_loader)):\n",
    "            x=x.to(device)\n",
    "            y=y.to(device)\n",
    "\n",
    "            model.zero_grad()\n",
    "            \n",
    "            out=model(x)\n",
    "\n",
    "            loss = mse_loss(out, y)\n",
    "            loss.backward()\n",
    "            optimizer.step()\n",
    "\n",
    "            epoch_losses.append(loss.item())\n",
    "\n",
    "        \n",
    "        losses.append(np.mean(epoch_losses))\n",
    "        print(f\"Validation R2:{validate()}\")\n",
    "    \n",
    "    return losses"
   ]
  },
  {
   "cell_type": "code",
   "execution_count": 19,
   "id": "e5c64733",
   "metadata": {},
   "outputs": [
    {
     "name": "stderr",
     "output_type": "stream",
     "text": [
      "100%|██████████| 136/136 [00:00<00:00, 245.87it/s]\n"
     ]
    },
    {
     "name": "stdout",
     "output_type": "stream",
     "text": [
      "Validation R2:-0.6379653035327464\n"
     ]
    },
    {
     "name": "stderr",
     "output_type": "stream",
     "text": [
      "100%|██████████| 136/136 [00:00<00:00, 327.83it/s]\n"
     ]
    },
    {
     "name": "stdout",
     "output_type": "stream",
     "text": [
      "Validation R2:-0.5570936933213644\n"
     ]
    },
    {
     "name": "stderr",
     "output_type": "stream",
     "text": [
      "100%|██████████| 136/136 [00:00<00:00, 330.49it/s]\n"
     ]
    },
    {
     "name": "stdout",
     "output_type": "stream",
     "text": [
      "Validation R2:-0.46774030888457974\n"
     ]
    },
    {
     "name": "stderr",
     "output_type": "stream",
     "text": [
      "100%|██████████| 136/136 [00:00<00:00, 332.08it/s]\n"
     ]
    },
    {
     "name": "stdout",
     "output_type": "stream",
     "text": [
      "Validation R2:-0.36654468806990637\n"
     ]
    },
    {
     "name": "stderr",
     "output_type": "stream",
     "text": [
      "100%|██████████| 136/136 [00:00<00:00, 330.70it/s]\n"
     ]
    },
    {
     "name": "stdout",
     "output_type": "stream",
     "text": [
      "Validation R2:-0.24847113473275462\n"
     ]
    },
    {
     "name": "stderr",
     "output_type": "stream",
     "text": [
      "100%|██████████| 136/136 [00:00<00:00, 304.21it/s]\n"
     ]
    },
    {
     "name": "stdout",
     "output_type": "stream",
     "text": [
      "Validation R2:-0.11370579364670785\n"
     ]
    },
    {
     "name": "stderr",
     "output_type": "stream",
     "text": [
      "100%|██████████| 136/136 [00:00<00:00, 311.30it/s]\n"
     ]
    },
    {
     "name": "stdout",
     "output_type": "stream",
     "text": [
      "Validation R2:0.03695340319160678\n"
     ]
    },
    {
     "name": "stderr",
     "output_type": "stream",
     "text": [
      "100%|██████████| 136/136 [00:00<00:00, 306.49it/s]\n"
     ]
    },
    {
     "name": "stdout",
     "output_type": "stream",
     "text": [
      "Validation R2:0.20186079416165104\n"
     ]
    },
    {
     "name": "stderr",
     "output_type": "stream",
     "text": [
      "100%|██████████| 136/136 [00:00<00:00, 310.84it/s]\n"
     ]
    },
    {
     "name": "stdout",
     "output_type": "stream",
     "text": [
      "Validation R2:0.3727388892415521\n"
     ]
    },
    {
     "name": "stderr",
     "output_type": "stream",
     "text": [
      "100%|██████████| 136/136 [00:00<00:00, 263.22it/s]\n"
     ]
    },
    {
     "name": "stdout",
     "output_type": "stream",
     "text": [
      "Validation R2:0.5396058043405807\n"
     ]
    },
    {
     "name": "stderr",
     "output_type": "stream",
     "text": [
      "100%|██████████| 136/136 [00:00<00:00, 291.30it/s]\n"
     ]
    },
    {
     "name": "stdout",
     "output_type": "stream",
     "text": [
      "Validation R2:0.6903111109772866\n"
     ]
    },
    {
     "name": "stderr",
     "output_type": "stream",
     "text": [
      "100%|██████████| 136/136 [00:00<00:00, 300.04it/s]\n"
     ]
    },
    {
     "name": "stdout",
     "output_type": "stream",
     "text": [
      "Validation R2:0.8113184087115345\n"
     ]
    },
    {
     "name": "stderr",
     "output_type": "stream",
     "text": [
      "100%|██████████| 136/136 [00:00<00:00, 290.15it/s]\n"
     ]
    },
    {
     "name": "stdout",
     "output_type": "stream",
     "text": [
      "Validation R2:0.8970071783204396\n"
     ]
    },
    {
     "name": "stderr",
     "output_type": "stream",
     "text": [
      "100%|██████████| 136/136 [00:00<00:00, 307.82it/s]\n"
     ]
    },
    {
     "name": "stdout",
     "output_type": "stream",
     "text": [
      "Validation R2:0.9471335222667349\n"
     ]
    },
    {
     "name": "stderr",
     "output_type": "stream",
     "text": [
      "100%|██████████| 136/136 [00:00<00:00, 308.44it/s]\n"
     ]
    },
    {
     "name": "stdout",
     "output_type": "stream",
     "text": [
      "Validation R2:0.9690888294233172\n"
     ]
    },
    {
     "name": "stderr",
     "output_type": "stream",
     "text": [
      "100%|██████████| 136/136 [00:00<00:00, 307.84it/s]\n"
     ]
    },
    {
     "name": "stdout",
     "output_type": "stream",
     "text": [
      "Validation R2:0.9737706376526613\n"
     ]
    },
    {
     "name": "stderr",
     "output_type": "stream",
     "text": [
      "100%|██████████| 136/136 [00:00<00:00, 300.17it/s]\n"
     ]
    },
    {
     "name": "stdout",
     "output_type": "stream",
     "text": [
      "Validation R2:0.971005465115812\n"
     ]
    },
    {
     "name": "stderr",
     "output_type": "stream",
     "text": [
      "100%|██████████| 136/136 [00:00<00:00, 302.19it/s]\n"
     ]
    },
    {
     "name": "stdout",
     "output_type": "stream",
     "text": [
      "Validation R2:0.9667326996168982\n"
     ]
    },
    {
     "name": "stderr",
     "output_type": "stream",
     "text": [
      "100%|██████████| 136/136 [00:00<00:00, 306.12it/s]\n"
     ]
    },
    {
     "name": "stdout",
     "output_type": "stream",
     "text": [
      "Validation R2:0.9633592508427374\n"
     ]
    },
    {
     "name": "stderr",
     "output_type": "stream",
     "text": [
      "100%|██████████| 136/136 [00:00<00:00, 304.76it/s]"
     ]
    },
    {
     "name": "stdout",
     "output_type": "stream",
     "text": [
      "Validation R2:0.9613137688838934\n"
     ]
    },
    {
     "name": "stderr",
     "output_type": "stream",
     "text": [
      "\n"
     ]
    }
   ],
   "source": [
    "losses=train(20)"
   ]
  },
  {
   "cell_type": "code",
   "execution_count": 20,
   "id": "120d8e1e",
   "metadata": {},
   "outputs": [
    {
     "data": {
      "image/png": "[encoded data removed]",
      "text/plain": [
       "<Figure size 640x480 with 1 Axes>"
      ]
     },
     "metadata": {},
     "output_type": "display_data"
    }
   ],
   "source": [
    "plt.plot(losses)\n",
    "plt.xlabel(\"Epochs\")\n",
    "plt.ylabel(\"Losses\")\n",
    "plt.legend(\"MSE Loss\")\n",
    "plt.xticks(np.arange(len(losses)))\n",
    "plt.show()"
   ]
  },
  {
   "cell_type": "code",
   "execution_count": 21,
   "id": "e7d4cf7d",
   "metadata": {},
   "outputs": [],
   "source": [
    "def test():\n",
    "    model.eval()\n",
    "    y_pred=[]\n",
    "\n",
    "    for idx,(x,y) in enumerate(tqdm(test_loader)):\n",
    "        x=x.to(device)\n",
    "        y=y.to(device)\n",
    "\n",
    "        model.zero_grad()\n",
    "            \n",
    "        out=model(x)\n",
    "        y_pred.extend(list(out.detach().cpu().numpy()))\n",
    "    \n",
    "    return y_pred"
   ]
  },
  {
   "cell_type": "code",
   "execution_count": 22,
   "id": "057e18d9",
   "metadata": {},
   "outputs": [
    {
     "name": "stderr",
     "output_type": "stream",
     "text": [
      "100%|██████████| 5/5 [00:00<00:00, 482.26it/s]\n"
     ]
    }
   ],
   "source": [
    "y_pred=y_scaler.inverse_transform(test())\n",
    "y_true=y_scaler.inverse_transform(y_test_sliding)"
   ]
  },
  {
   "cell_type": "markdown",
   "id": "849bf061",
   "metadata": {},
   "source": [
    "Plotting"
   ]
  },
  {
   "cell_type": "code",
   "execution_count": 23,
   "id": "dec910a3",
   "metadata": {},
   "outputs": [
    {
     "data": {
      "image/png": "[encoded data removed]",
      "text/plain": [
       "<Figure size 640x480 with 1 Axes>"
      ]
     },
     "metadata": {},
     "output_type": "display_data"
    }
   ],
   "source": [
    "plt.plot(y_pred)\n",
    "plt.plot(y_true)\n",
    "plt.xlabel(\"Time Steps\")\n",
    "plt.ylabel(\"Open Prices\")\n",
    "plt.legend(['Predicted','Actual'])\n",
    "plt.show()"
   ]
  },
  {
   "cell_type": "code",
   "execution_count": 24,
   "id": "2f5f24cd",
   "metadata": {},
   "outputs": [
    {
     "name": "stdout",
     "output_type": "stream",
     "text": [
      "R2 Score: 0.9613137688838935\n"
     ]
    }
   ],
   "source": [
    "print(\"R2 Score:\",r2_score(y_pred=y_pred,y_true=y_true))"
   ]
  },
  {
   "cell_type": "markdown",
   "id": "f82cbb51",
   "metadata": {},
   "source": [
    "Ups and Downs"
   ]
  },
  {
   "cell_type": "code",
   "execution_count": 25,
   "id": "bc6690bc",
   "metadata": {},
   "outputs": [],
   "source": [
    "from sklearn.metrics import accuracy_score,precision_score,f1_score,recall_score,confusion_matrix,ConfusionMatrixDisplay"
   ]
  },
  {
   "cell_type": "code",
   "execution_count": 26,
   "id": "38ed136c",
   "metadata": {},
   "outputs": [],
   "source": [
    "def ups_and_downs(y):\n",
    "    out=[]\n",
    "    for i in range(len(y)-1):\n",
    "        if(y[i]<y[i+1]):\n",
    "            out.append(1)\n",
    "        else:\n",
    "            out.append(-1)\n",
    "    return out"
   ]
  },
  {
   "cell_type": "code",
   "execution_count": 27,
   "id": "c8074ea0",
   "metadata": {},
   "outputs": [],
   "source": [
    "direction_pred=ups_and_downs(y_pred)\n",
    "direction_true=ups_and_downs(y_true)"
   ]
  },
  {
   "cell_type": "code",
   "execution_count": 28,
   "id": "8fe68999",
   "metadata": {},
   "outputs": [
    {
     "name": "stdout",
     "output_type": "stream",
     "text": [
      "Accuracy Score: 0.6536312849162011\n",
      "Precision Score: 0.6050420168067226\n",
      "Recall Score: 0.6101694915254238\n",
      "F1 Score: 0.6075949367088608\n"
     ]
    },
    {
     "data": {
      "text/plain": [
       "<sklearn.metrics._plot.confusion_matrix.ConfusionMatrixDisplay at 0x2429fe8d940>"
      ]
     },
     "execution_count": 28,
     "metadata": {},
     "output_type": "execute_result"
    },
    {
     "data": {
      "image/png": "[encoded data removed]",
      "text/plain": [
       "<Figure size 640x480 with 2 Axes>"
      ]
     },
     "metadata": {},
     "output_type": "display_data"
    }
   ],
   "source": [
    "print(\"Accuracy Score:\",accuracy_score(y_true=direction_true,y_pred=direction_pred))\n",
    "print(\"Precision Score:\",precision_score(y_true=direction_true,y_pred=direction_pred))\n",
    "print(\"Recall Score:\",recall_score(y_true=direction_true,y_pred=direction_pred))\n",
    "print(\"F1 Score:\",f1_score(y_true=direction_true,y_pred=direction_pred))\n",
    "cm=ConfusionMatrixDisplay(confusion_matrix=confusion_matrix(y_true=direction_true,y_pred=direction_pred))\n",
    "cm.plot()"
   ]
  }
 ],
 "metadata": {
  "kernelspec": {
   "display_name": ".venv",
   "language": "python",
   "name": "python3"
  },
  "language_info": {
   "codemirror_mode": {
    "name": "ipython",
    "version": 3
   },
   "file_extension": ".py",
   "mimetype": "text/x-python",
   "name": "python",
   "nbconvert_exporter": "python",
   "pygments_lexer": "ipython3",
   "version": "3.13.3"
  }
 },
 "nbformat": 4,
 "nbformat_minor": 5
}
